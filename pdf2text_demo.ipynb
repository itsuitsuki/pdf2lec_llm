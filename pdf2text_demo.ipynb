{
 "cells": [
  {
   "cell_type": "code",
   "execution_count": 2,
   "metadata": {},
   "outputs": [
    {
     "name": "stdout",
     "output_type": "stream",
     "text": [
      "The image is a slide titled \"CS 188: Artificial Intelligence,\" focusing on the \"Introduction\" section of the course. At the top, the title is written in large blue letters. Below this, the word \"Introduction\" appears in black.\n",
      "\n",
      "A humorous illustration is featured beneath the text, depicting a robot and a human engaged in a game of chess. The robot, on the left, looks cheerful and has a classic, cartoonish design with a large display screen for a face. The human, on the right, is thoughtfully resting his chin on his hand and looking at the chessboard with a smile.\n",
      "\n",
      "Below the illustration is information about the course offered in \"Fall 2024\" by \"Pieter Abbeel & Igor Mordatch\" at the \"University of California, Berkeley.\" A note at the bottom mentions that many of the slides were originally created by \"Dan Klein and Pieter Abbeel.\"\n"
     ]
    }
   ],
   "source": [
    "import base64\n",
    "import requests\n",
    "import os\n",
    "\n",
    "def encode_image_to_base64(image_path):\n",
    "    \"\"\"\n",
    "    Read an image file and encode it as a base64 string.\n",
    "\n",
    "    :param image_path: Local path to the image file\n",
    "    :return: Base64 encoded string of the image\n",
    "    \"\"\"\n",
    "    with open(image_path, \"rb\") as image_file:\n",
    "        return base64.b64encode(image_file.read()).decode('utf-8')\n",
    "\n",
    "def analyze_image_gpt4o(prompt, image_path):\n",
    "    \"\"\"\n",
    "    Analyze an image using the GPT-4o model and return a description.\n",
    "\n",
    "    :param prompt: The text prompt for the model\n",
    "    :param image_path: Local path to the image file\n",
    "    :return: Model-generated description or error message\n",
    "    \"\"\"\n",
    "    # OpenAI API endpoint\n",
    "    url = \"https://api.openai.com/v1/chat/completions\"\n",
    "    \n",
    "    # Encode the image\n",
    "    encoded_image = encode_image_to_base64(image_path)\n",
    "    \n",
    "    # Prepare the payload\n",
    "    payload = {\n",
    "        \"model\": \"gpt-4o\",\n",
    "        \"messages\": [\n",
    "            {\n",
    "                \"role\": \"user\",\n",
    "                \"content\": [\n",
    "                    {\"type\": \"text\", \"text\": prompt},\n",
    "                    {\n",
    "                        \"type\": \"image_url\",\n",
    "                        \"image_url\": {\n",
    "                            \"url\": f\"data:image/jpeg;base64,{encoded_image}\",\n",
    "                            \"detail\": \"high\"\n",
    "                        }\n",
    "                    }\n",
    "                ]\n",
    "            }\n",
    "        ],\n",
    "        \"max_tokens\": 300\n",
    "    }\n",
    "    \n",
    "    # Set up headers\n",
    "    headers = {\n",
    "        \"Content-Type\": \"application/json\",\n",
    "        \"Authorization\": f\"Bearer {os.getenv('OPENAI_API_KEY')}\"\n",
    "    }\n",
    "    \n",
    "    # Send API request\n",
    "    response = requests.post(url, json=payload, headers=headers)\n",
    "    \n",
    "    # Check if the request was successful\n",
    "    if response.status_code == 200:\n",
    "        return response.json()['choices'][0]['message']['content']\n",
    "    else:\n",
    "        return f\"Error: {response.status_code}, {response.text}\"\n",
    "\n",
    "\n",
    "result = analyze_image_gpt4o(\"Describe this image in detail.\", \"./data/test_images/屏幕截图 2024-10-19 164116.png\")\n",
    "print(result)"
   ]
  },
  {
   "cell_type": "code",
   "execution_count": null,
   "metadata": {},
   "outputs": [],
   "source": []
  }
 ],
 "metadata": {
  "kernelspec": {
   "display_name": "llm",
   "language": "python",
   "name": "python3"
  },
  "language_info": {
   "codemirror_mode": {
    "name": "ipython",
    "version": 3
   },
   "file_extension": ".py",
   "mimetype": "text/x-python",
   "name": "python",
   "nbconvert_exporter": "python",
   "pygments_lexer": "ipython3",
   "version": "3.11.0"
  }
 },
 "nbformat": 4,
 "nbformat_minor": 2
}
